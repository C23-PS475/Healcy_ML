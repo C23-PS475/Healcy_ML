{
 "cells": [
  {
   "cell_type": "code",
   "execution_count": null,
   "metadata": {},
   "outputs": [],
   "source": [
    "import pandas as pd\n",
    "import numpy as np\n",
    "from sklearn.model_selection import train_test_split\n",
    "from sklearn.preprocessing import StandardScaler\n",
    "from sklearn.model_selection import GridSearchCV\n",
    "from sklearn.metrics import classification_report\n",
    "import xgboost as xgb\n",
    "import tensorflow as tf\n",
    "from tensorflow.keras.models import Sequential\n",
    "from tensorflow.keras.layers import Dense, Dropout"
   ]
  },
  {
   "cell_type": "code",
   "execution_count": null,
   "metadata": {},
   "outputs": [],
   "source": [
    "# Load data\n",
    "data = pd.read_csv(\".csv\")\n",
    "\n",
    "# Separate features and target variable\n",
    "X = data.drop('RiskLevel', axis=1)\n",
    "y = data['RiskLevel']\n",
    "\n",
    "# Map 'RiskLevel' labels to numerical values\n",
    "label_mapping = {'low risk': 0, 'mid risk': 1, 'high risk': 2}\n",
    "y = y.map(label_mapping)\n",
    "\n",
    "# Normalize the data\n",
    "scaler = StandardScaler()\n",
    "X = scaler.fit_transform(X)\n",
    "print(X)\n",
    "print(y)\n",
    "\n",
    "# Split data into training and validation sets\n",
    "X_train, X_val, y_train, y_val = train_test_split(X, y, test_size=0.2, random_state=42)\n"
   ]
  },
  {
   "cell_type": "code",
   "execution_count": null,
   "metadata": {},
   "outputs": [],
   "source": [
    "# XGBoost model\n",
    "xgb_model = xgb.XGBClassifier()\n",
    "\n",
    "# TensorFlow model\n",
    "tf_model = Sequential()\n",
    "tf_model.add(Dense(128, input_dim=X_train.shape[1], activation='relu'))\n",
    "tf_model.add(Dense(128, activation='relu'))\n",
    "tf_model.add(Dense(128, activation='relu'))\n",
    "tf_model.add(Dense(3, activation='softmax'))\n",
    "\n",
    "# Compile TensorFlow model\n",
    "tf_model.compile(loss='sparse_categorical_crossentropy', optimizer='adam', metrics=['accuracy'])\n"
   ]
  },
  {
   "cell_type": "code",
   "execution_count": null,
   "metadata": {},
   "outputs": [],
   "source": [
    "# Train XGBoost model\n",
    "xgb_model.fit(X_train, y_train)\n",
    "\n",
    "# Train TensorFlow model\n",
    "tf_model.fit(X_train, y_train, epochs=150, batch_size=32)\n"
   ]
  },
  {
   "cell_type": "code",
   "execution_count": null,
   "metadata": {},
   "outputs": [],
   "source": [
    "# Generate XGBoost predictions\n",
    "xgb_preds = xgb_model.predict(X_val)\n",
    "\n",
    "# Generate TensorFlow predictions\n",
    "tf_probs = tf_model.predict(X_val)\n",
    "tf_preds = np.round(tf_probs).astype(int)\n"
   ]
  },
  {
   "cell_type": "code",
   "execution_count": null,
   "metadata": {},
   "outputs": [],
   "source": [
    "# Concatenate base model predictions with the original features\n",
    "meta_X = np.concatenate((X_val, xgb_preds.reshape(-1, 1), tf_preds), axis=1)\n",
    "\n",
    "# Build XGBoost meta model\n",
    "meta_model = xgb.XGBClassifier()\n",
    "\n",
    "# Define hyperparameters for grid search\n",
    "params = {'max_depth': [3, 5, 7], 'learning_rate': [0.1, 0.01], 'n_estimators': [100, 200, 300]}\n",
    "\n",
    "# Perform grid search for hyperparameter tuning\n",
    "grid_search = GridSearchCV(meta_model, params, cv=5, scoring='accuracy')\n",
    "grid_search.fit(meta_X, y_val)\n",
    "\n",
    "# Get the best meta model\n",
    "best_meta_model = grid_search.best_estimator_\n"
   ]
  },
  {
   "cell_type": "code",
   "execution_count": null,
   "metadata": {},
   "outputs": [],
   "source": [
    "# Generate predictions from the meta model\n",
    "meta_preds = best_meta_model.predict(meta_X)\n",
    "\n",
    "# Evaluate the meta model\n",
    "print(classification_report(y_val, meta_preds))\n"
   ]
  },
  {
   "cell_type": "code",
   "execution_count": null,
   "metadata": {},
   "outputs": [],
   "source": [
    "# Convert TensorFlow model to TFLite format\n",
    "converter = tf.lite.TFLiteConverter.from_keras_model(tf_model)\n",
    "tflite_model = converter.convert()\n",
    "\n",
    "# Save the TFLite model to a file\n",
    "with open('model.tflite', 'wb') as f:\n",
    "    f.write(tflite_model)\n",
    "\n",
    "# Save the TensorFlow model to H5 format\n",
    "tf_model.save('model.h5')\n"
   ]
  }
 ],
 "metadata": {
  "kernelspec": {
   "display_name": "Python 3",
   "language": "python",
   "name": "python3"
  },
  "language_info": {
   "codemirror_mode": {
    "name": "ipython",
    "version": 3
   },
   "file_extension": ".py",
   "mimetype": "text/x-python",
   "name": "python",
   "nbconvert_exporter": "python",
   "pygments_lexer": "ipython3",
   "version": "3.11.3"
  },
  "orig_nbformat": 4
 },
 "nbformat": 4,
 "nbformat_minor": 2
}
